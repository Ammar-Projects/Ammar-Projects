{
  "nbformat": 4,
  "nbformat_minor": 0,
  "metadata": {
    "colab": {
      "name": "MarvelDC.ipynb",
      "provenance": [],
      "collapsed_sections": [
        "ipvwqIOVBCvr",
        "3PrR5k85GHHe",
        "_--QlXDslr_d",
        "VDKedeMIlzak",
        "d4jlYxZYl7yF",
        "NQHxPWaamA4v",
        "lVsTUUfheDBb",
        "t6uflNEeeLc2",
        "c_1uta-9ekoM"
      ],
      "mount_file_id": "173kJ3pldhz2pBWRoD113M_vOgIMkAf1v",
      "authorship_tag": "ABX9TyM3OhlSl5W8UsI3tPLf7MzU"
    },
    "kernelspec": {
      "name": "python3",
      "display_name": "Python 3"
    },
    "language_info": {
      "name": "python"
    }
  },
  "cells": [
    {
      "cell_type": "markdown",
      "source": [
        "## Marvel & DC Live-Action Films Analysis by Ammar Altalibi\n",
        "\n",
        "Uses MARVEL vs. DC - IMDB & ROTTEN TOMATOES dataset from Kaggle\n",
        "\n",
        "Link to dataset: \n",
        "https://www.kaggle.com/jcraggy/marvel-vs-dc-imdb-rotten-tomatoes\n",
        "\n",
        "\n",
        "This is my exploratory data analysis of Marvel vs DC live action films. The notebook is divided into 3 major sections, with each section divided into subsections based on what questions I have. For the Data Analysis section, I included my thoughts and observations under each graph as well."
      ],
      "metadata": {
        "id": "oWHk23bzA4-F"
      }
    },
    {
      "cell_type": "markdown",
      "source": [
        "## Load Packages and Dataset\n",
        "\n",
        "We need to first setup our notebook and load and open our dataset. We do this by performing these steps:\n",
        "- Import libraries\n",
        "- Mount Google Drive\n",
        "- Load dataset using Pandas"
      ],
      "metadata": {
        "id": "ipvwqIOVBCvr"
      }
    },
    {
      "cell_type": "code",
      "execution_count": 1,
      "metadata": {
        "id": "vVKArsNtOnDc",
        "colab": {
          "base_uri": "https://localhost:8080/"
        },
        "outputId": "f629cb57-95a0-4361-ca9a-c3ba5cac91a3"
      },
      "outputs": [
        {
          "output_type": "stream",
          "name": "stdout",
          "text": [
            "Mounted at /content/gdrive\n"
          ]
        }
      ],
      "source": [
        "# Import libraries\n",
        "import pandas as pd\n",
        "import numpy as np\n",
        "import seaborn as sns\n",
        "%matplotlib inline\n",
        "import matplotlib.pyplot as plt\n",
        "\n",
        "# Mount the Google Drive to avoid maunally uploading files to Google Colab\n",
        "from google.colab import drive \n",
        "drive.mount('/content/gdrive')"
      ]
    },
    {
      "cell_type": "code",
      "source": [
        "# Read the csv file into a dataframe\n",
        "mdc = pd.read_csv('/content/gdrive/MyDrive/Datasets/mdc.csv', sep = ',', encoding = 'latin-1')\n",
        "\n",
        "# Display the first 5 rows\n",
        "mdc.head()"
      ],
      "metadata": {
        "colab": {
          "base_uri": "https://localhost:8080/",
          "height": 591
        },
        "id": "P8-YOZSdpLtH",
        "outputId": "6ac3a4e3-9d7e-47f7-8a55-55faab21a3f5"
      },
      "execution_count": 2,
      "outputs": [
        {
          "output_type": "execute_result",
          "data": {
            "text/html": [
              "\n",
              "  <div id=\"df-ff3e856e-561c-482a-a08f-a9ddce4fec44\">\n",
              "    <div class=\"colab-df-container\">\n",
              "      <div>\n",
              "<style scoped>\n",
              "    .dataframe tbody tr th:only-of-type {\n",
              "        vertical-align: middle;\n",
              "    }\n",
              "\n",
              "    .dataframe tbody tr th {\n",
              "        vertical-align: top;\n",
              "    }\n",
              "\n",
              "    .dataframe thead th {\n",
              "        text-align: right;\n",
              "    }\n",
              "</style>\n",
              "<table border=\"1\" class=\"dataframe\">\n",
              "  <thead>\n",
              "    <tr style=\"text-align: right;\">\n",
              "      <th></th>\n",
              "      <th>Unnamed: 0</th>\n",
              "      <th>title</th>\n",
              "      <th>year</th>\n",
              "      <th>genre</th>\n",
              "      <th>runtime</th>\n",
              "      <th>mpa_rating</th>\n",
              "      <th>imdb_rating</th>\n",
              "      <th>imdb_votes</th>\n",
              "      <th>imdb_gross</th>\n",
              "      <th>director</th>\n",
              "      <th>stars</th>\n",
              "      <th>description</th>\n",
              "      <th>crit_consensus</th>\n",
              "      <th>tomato_meter</th>\n",
              "      <th>tomato_review</th>\n",
              "      <th>tom_aud_score</th>\n",
              "      <th>tom_ratings</th>\n",
              "      <th>entity</th>\n",
              "      <th>id</th>\n",
              "    </tr>\n",
              "  </thead>\n",
              "  <tbody>\n",
              "    <tr>\n",
              "      <th>0</th>\n",
              "      <td>1</td>\n",
              "      <td>Captain America</td>\n",
              "      <td>1944</td>\n",
              "      <td>Action, Adventure, Sci-Fi</td>\n",
              "      <td>244</td>\n",
              "      <td>Approved</td>\n",
              "      <td>5.5</td>\n",
              "      <td>844</td>\n",
              "      <td>0</td>\n",
              "      <td>Elmer Clifton</td>\n",
              "      <td>Elmer Clifton,Dick Purcell,Lorna Gray,Lionel A...</td>\n",
              "      <td>Superhero Captain America battles the evil for...</td>\n",
              "      <td>Find one of these old serials, friend. They're...</td>\n",
              "      <td>0</td>\n",
              "      <td>1</td>\n",
              "      <td>82</td>\n",
              "      <td>250</td>\n",
              "      <td>MARVEL</td>\n",
              "      <td>1</td>\n",
              "    </tr>\n",
              "    <tr>\n",
              "      <th>1</th>\n",
              "      <td>2</td>\n",
              "      <td>Howard the Duck</td>\n",
              "      <td>1986</td>\n",
              "      <td>Action, Adventure, Comedy</td>\n",
              "      <td>110</td>\n",
              "      <td>PG</td>\n",
              "      <td>4.7</td>\n",
              "      <td>44073</td>\n",
              "      <td>16300000</td>\n",
              "      <td>Willard Huyck</td>\n",
              "      <td>Willard Huyck,Lea Thompson,Jeffrey Jones,Tim R...</td>\n",
              "      <td>A sarcastic humanoid duck is pulled from his h...</td>\n",
              "      <td>While it has its moments, Howard the Duck suff...</td>\n",
              "      <td>13</td>\n",
              "      <td>78</td>\n",
              "      <td>38</td>\n",
              "      <td>50000</td>\n",
              "      <td>MARVEL</td>\n",
              "      <td>2</td>\n",
              "    </tr>\n",
              "    <tr>\n",
              "      <th>2</th>\n",
              "      <td>3</td>\n",
              "      <td>Blade</td>\n",
              "      <td>1998</td>\n",
              "      <td>Action, Horror, Sci-Fi</td>\n",
              "      <td>120</td>\n",
              "      <td>R</td>\n",
              "      <td>7.1</td>\n",
              "      <td>251243</td>\n",
              "      <td>70090000</td>\n",
              "      <td>Stephen Norrington</td>\n",
              "      <td>Stephen Norrington,Wesley Snipes,Stephen Dorff...</td>\n",
              "      <td>A half-vampire, half-mortal man becomes a prot...</td>\n",
              "      <td>Though some may find the plot a bit lacking, B...</td>\n",
              "      <td>55</td>\n",
              "      <td>103</td>\n",
              "      <td>78</td>\n",
              "      <td>250000</td>\n",
              "      <td>MARVEL</td>\n",
              "      <td>3</td>\n",
              "    </tr>\n",
              "    <tr>\n",
              "      <th>3</th>\n",
              "      <td>4</td>\n",
              "      <td>X-Men</td>\n",
              "      <td>2000</td>\n",
              "      <td>Action, Adventure, Sci-Fi</td>\n",
              "      <td>104</td>\n",
              "      <td>PG-13</td>\n",
              "      <td>7.4</td>\n",
              "      <td>580354</td>\n",
              "      <td>157300000</td>\n",
              "      <td>Bryan Singer</td>\n",
              "      <td>Bryan Singer,Patrick Stewart,Hugh Jackman,Ian ...</td>\n",
              "      <td>In a world where mutants (evolved super-powere...</td>\n",
              "      <td>Faithful to the comics and filled with action,...</td>\n",
              "      <td>82</td>\n",
              "      <td>174</td>\n",
              "      <td>83</td>\n",
              "      <td>250000</td>\n",
              "      <td>MARVEL</td>\n",
              "      <td>4</td>\n",
              "    </tr>\n",
              "    <tr>\n",
              "      <th>4</th>\n",
              "      <td>5</td>\n",
              "      <td>Blade II</td>\n",
              "      <td>2002</td>\n",
              "      <td>Action, Fantasy, Horror</td>\n",
              "      <td>117</td>\n",
              "      <td>R</td>\n",
              "      <td>6.7</td>\n",
              "      <td>203813</td>\n",
              "      <td>82350000</td>\n",
              "      <td>Guillermo del Toro</td>\n",
              "      <td>Guillermo del Toro,Wesley Snipes,Kris Kristoff...</td>\n",
              "      <td>Blade forms an uneasy alliance with the vampir...</td>\n",
              "      <td>Though Blade II offers more of what worked in ...</td>\n",
              "      <td>57</td>\n",
              "      <td>150</td>\n",
              "      <td>68</td>\n",
              "      <td>250000</td>\n",
              "      <td>MARVEL</td>\n",
              "      <td>5</td>\n",
              "    </tr>\n",
              "  </tbody>\n",
              "</table>\n",
              "</div>\n",
              "      <button class=\"colab-df-convert\" onclick=\"convertToInteractive('df-ff3e856e-561c-482a-a08f-a9ddce4fec44')\"\n",
              "              title=\"Convert this dataframe to an interactive table.\"\n",
              "              style=\"display:none;\">\n",
              "        \n",
              "  <svg xmlns=\"http://www.w3.org/2000/svg\" height=\"24px\"viewBox=\"0 0 24 24\"\n",
              "       width=\"24px\">\n",
              "    <path d=\"M0 0h24v24H0V0z\" fill=\"none\"/>\n",
              "    <path d=\"M18.56 5.44l.94 2.06.94-2.06 2.06-.94-2.06-.94-.94-2.06-.94 2.06-2.06.94zm-11 1L8.5 8.5l.94-2.06 2.06-.94-2.06-.94L8.5 2.5l-.94 2.06-2.06.94zm10 10l.94 2.06.94-2.06 2.06-.94-2.06-.94-.94-2.06-.94 2.06-2.06.94z\"/><path d=\"M17.41 7.96l-1.37-1.37c-.4-.4-.92-.59-1.43-.59-.52 0-1.04.2-1.43.59L10.3 9.45l-7.72 7.72c-.78.78-.78 2.05 0 2.83L4 21.41c.39.39.9.59 1.41.59.51 0 1.02-.2 1.41-.59l7.78-7.78 2.81-2.81c.8-.78.8-2.07 0-2.86zM5.41 20L4 18.59l7.72-7.72 1.47 1.35L5.41 20z\"/>\n",
              "  </svg>\n",
              "      </button>\n",
              "      \n",
              "  <style>\n",
              "    .colab-df-container {\n",
              "      display:flex;\n",
              "      flex-wrap:wrap;\n",
              "      gap: 12px;\n",
              "    }\n",
              "\n",
              "    .colab-df-convert {\n",
              "      background-color: #E8F0FE;\n",
              "      border: none;\n",
              "      border-radius: 50%;\n",
              "      cursor: pointer;\n",
              "      display: none;\n",
              "      fill: #1967D2;\n",
              "      height: 32px;\n",
              "      padding: 0 0 0 0;\n",
              "      width: 32px;\n",
              "    }\n",
              "\n",
              "    .colab-df-convert:hover {\n",
              "      background-color: #E2EBFA;\n",
              "      box-shadow: 0px 1px 2px rgba(60, 64, 67, 0.3), 0px 1px 3px 1px rgba(60, 64, 67, 0.15);\n",
              "      fill: #174EA6;\n",
              "    }\n",
              "\n",
              "    [theme=dark] .colab-df-convert {\n",
              "      background-color: #3B4455;\n",
              "      fill: #D2E3FC;\n",
              "    }\n",
              "\n",
              "    [theme=dark] .colab-df-convert:hover {\n",
              "      background-color: #434B5C;\n",
              "      box-shadow: 0px 1px 3px 1px rgba(0, 0, 0, 0.15);\n",
              "      filter: drop-shadow(0px 1px 2px rgba(0, 0, 0, 0.3));\n",
              "      fill: #FFFFFF;\n",
              "    }\n",
              "  </style>\n",
              "\n",
              "      <script>\n",
              "        const buttonEl =\n",
              "          document.querySelector('#df-ff3e856e-561c-482a-a08f-a9ddce4fec44 button.colab-df-convert');\n",
              "        buttonEl.style.display =\n",
              "          google.colab.kernel.accessAllowed ? 'block' : 'none';\n",
              "\n",
              "        async function convertToInteractive(key) {\n",
              "          const element = document.querySelector('#df-ff3e856e-561c-482a-a08f-a9ddce4fec44');\n",
              "          const dataTable =\n",
              "            await google.colab.kernel.invokeFunction('convertToInteractive',\n",
              "                                                     [key], {});\n",
              "          if (!dataTable) return;\n",
              "\n",
              "          const docLinkHtml = 'Like what you see? Visit the ' +\n",
              "            '<a target=\"_blank\" href=https://colab.research.google.com/notebooks/data_table.ipynb>data table notebook</a>'\n",
              "            + ' to learn more about interactive tables.';\n",
              "          element.innerHTML = '';\n",
              "          dataTable['output_type'] = 'display_data';\n",
              "          await google.colab.output.renderOutput(dataTable, element);\n",
              "          const docLink = document.createElement('div');\n",
              "          docLink.innerHTML = docLinkHtml;\n",
              "          element.appendChild(docLink);\n",
              "        }\n",
              "      </script>\n",
              "    </div>\n",
              "  </div>\n",
              "  "
            ],
            "text/plain": [
              "   Unnamed: 0            title  year  ... tom_ratings  entity id\n",
              "0           1  Captain America  1944  ...         250  MARVEL  1\n",
              "1           2  Howard the Duck  1986  ...       50000  MARVEL  2\n",
              "2           3            Blade  1998  ...      250000  MARVEL  3\n",
              "3           4            X-Men  2000  ...      250000  MARVEL  4\n",
              "4           5         Blade II  2002  ...      250000  MARVEL  5\n",
              "\n",
              "[5 rows x 19 columns]"
            ]
          },
          "metadata": {},
          "execution_count": 2
        }
      ]
    },
    {
      "cell_type": "markdown",
      "source": [
        "## Data Exploration\n",
        "\n",
        "Now we can begin exploring the data. After loading the data, we can answer a few questions, which will give us a good idea of what kind of data we are working with, and will make further analysis much easier."
      ],
      "metadata": {
        "id": "3PrR5k85GHHe"
      }
    },
    {
      "cell_type": "markdown",
      "source": [
        "### How many rows and columns are there?"
      ],
      "metadata": {
        "id": "_--QlXDslr_d"
      }
    },
    {
      "cell_type": "code",
      "source": [
        "# Check the shape of our dataset (number of rows and columns)\n",
        "print('There are',mdc.shape[0], 'rows in our dataframe')\n",
        "print('There are',mdc.shape[1], 'columns in our dataframe')"
      ],
      "metadata": {
        "colab": {
          "base_uri": "https://localhost:8080/"
        },
        "id": "bS_UHglN3BBO",
        "outputId": "b425cf80-94b0-41a9-a470-ce8b92201204"
      },
      "execution_count": 3,
      "outputs": [
        {
          "output_type": "stream",
          "name": "stdout",
          "text": [
            "There are 90 rows in our dataframe\n",
            "There are 19 columns in our dataframe\n"
          ]
        }
      ]
    },
    {
      "cell_type": "markdown",
      "source": [
        "### What types of data are in the dataframe? Are there any null values?"
      ],
      "metadata": {
        "id": "VDKedeMIlzak"
      }
    },
    {
      "cell_type": "code",
      "source": [
        "# Check to see the data types and if there are any null values\n",
        "mdc.info()"
      ],
      "metadata": {
        "colab": {
          "base_uri": "https://localhost:8080/"
        },
        "id": "nlE5qU5Q21Fr",
        "outputId": "5b7bc5b8-b020-47d4-dad4-7c576da2866e"
      },
      "execution_count": 4,
      "outputs": [
        {
          "output_type": "stream",
          "name": "stdout",
          "text": [
            "<class 'pandas.core.frame.DataFrame'>\n",
            "RangeIndex: 90 entries, 0 to 89\n",
            "Data columns (total 19 columns):\n",
            " #   Column          Non-Null Count  Dtype  \n",
            "---  ------          --------------  -----  \n",
            " 0   Unnamed: 0      90 non-null     int64  \n",
            " 1   title           90 non-null     object \n",
            " 2   year            90 non-null     int64  \n",
            " 3   genre           90 non-null     object \n",
            " 4   runtime         90 non-null     int64  \n",
            " 5   mpa_rating      90 non-null     object \n",
            " 6   imdb_rating     90 non-null     float64\n",
            " 7   imdb_votes      90 non-null     int64  \n",
            " 8   imdb_gross      90 non-null     int64  \n",
            " 9   director        90 non-null     object \n",
            " 10  stars           90 non-null     object \n",
            " 11  description     90 non-null     object \n",
            " 12  crit_consensus  90 non-null     object \n",
            " 13  tomato_meter    90 non-null     int64  \n",
            " 14  tomato_review   90 non-null     int64  \n",
            " 15  tom_aud_score   90 non-null     int64  \n",
            " 16  tom_ratings     90 non-null     int64  \n",
            " 17  entity          90 non-null     object \n",
            " 18  id              90 non-null     int64  \n",
            "dtypes: float64(1), int64(10), object(8)\n",
            "memory usage: 13.5+ KB\n"
          ]
        }
      ]
    },
    {
      "cell_type": "markdown",
      "source": [
        "### How many films did each company produce?"
      ],
      "metadata": {
        "id": "d4jlYxZYl7yF"
      }
    },
    {
      "cell_type": "code",
      "source": [
        "# Count the number of films for each company\n",
        "mdc.groupby('entity')[['title']].count()"
      ],
      "metadata": {
        "colab": {
          "base_uri": "https://localhost:8080/",
          "height": 142
        },
        "id": "oYn1vKaPrvTb",
        "outputId": "9e35bb3e-0948-4186-f537-15cf4b24d768"
      },
      "execution_count": 5,
      "outputs": [
        {
          "output_type": "execute_result",
          "data": {
            "text/html": [
              "\n",
              "  <div id=\"df-3af8fddb-12e4-4e9a-a9c5-f6c0f381a064\">\n",
              "    <div class=\"colab-df-container\">\n",
              "      <div>\n",
              "<style scoped>\n",
              "    .dataframe tbody tr th:only-of-type {\n",
              "        vertical-align: middle;\n",
              "    }\n",
              "\n",
              "    .dataframe tbody tr th {\n",
              "        vertical-align: top;\n",
              "    }\n",
              "\n",
              "    .dataframe thead th {\n",
              "        text-align: right;\n",
              "    }\n",
              "</style>\n",
              "<table border=\"1\" class=\"dataframe\">\n",
              "  <thead>\n",
              "    <tr style=\"text-align: right;\">\n",
              "      <th></th>\n",
              "      <th>title</th>\n",
              "    </tr>\n",
              "    <tr>\n",
              "      <th>entity</th>\n",
              "      <th></th>\n",
              "    </tr>\n",
              "  </thead>\n",
              "  <tbody>\n",
              "    <tr>\n",
              "      <th>DC</th>\n",
              "      <td>33</td>\n",
              "    </tr>\n",
              "    <tr>\n",
              "      <th>MARVEL</th>\n",
              "      <td>57</td>\n",
              "    </tr>\n",
              "  </tbody>\n",
              "</table>\n",
              "</div>\n",
              "      <button class=\"colab-df-convert\" onclick=\"convertToInteractive('df-3af8fddb-12e4-4e9a-a9c5-f6c0f381a064')\"\n",
              "              title=\"Convert this dataframe to an interactive table.\"\n",
              "              style=\"display:none;\">\n",
              "        \n",
              "  <svg xmlns=\"http://www.w3.org/2000/svg\" height=\"24px\"viewBox=\"0 0 24 24\"\n",
              "       width=\"24px\">\n",
              "    <path d=\"M0 0h24v24H0V0z\" fill=\"none\"/>\n",
              "    <path d=\"M18.56 5.44l.94 2.06.94-2.06 2.06-.94-2.06-.94-.94-2.06-.94 2.06-2.06.94zm-11 1L8.5 8.5l.94-2.06 2.06-.94-2.06-.94L8.5 2.5l-.94 2.06-2.06.94zm10 10l.94 2.06.94-2.06 2.06-.94-2.06-.94-.94-2.06-.94 2.06-2.06.94z\"/><path d=\"M17.41 7.96l-1.37-1.37c-.4-.4-.92-.59-1.43-.59-.52 0-1.04.2-1.43.59L10.3 9.45l-7.72 7.72c-.78.78-.78 2.05 0 2.83L4 21.41c.39.39.9.59 1.41.59.51 0 1.02-.2 1.41-.59l7.78-7.78 2.81-2.81c.8-.78.8-2.07 0-2.86zM5.41 20L4 18.59l7.72-7.72 1.47 1.35L5.41 20z\"/>\n",
              "  </svg>\n",
              "      </button>\n",
              "      \n",
              "  <style>\n",
              "    .colab-df-container {\n",
              "      display:flex;\n",
              "      flex-wrap:wrap;\n",
              "      gap: 12px;\n",
              "    }\n",
              "\n",
              "    .colab-df-convert {\n",
              "      background-color: #E8F0FE;\n",
              "      border: none;\n",
              "      border-radius: 50%;\n",
              "      cursor: pointer;\n",
              "      display: none;\n",
              "      fill: #1967D2;\n",
              "      height: 32px;\n",
              "      padding: 0 0 0 0;\n",
              "      width: 32px;\n",
              "    }\n",
              "\n",
              "    .colab-df-convert:hover {\n",
              "      background-color: #E2EBFA;\n",
              "      box-shadow: 0px 1px 2px rgba(60, 64, 67, 0.3), 0px 1px 3px 1px rgba(60, 64, 67, 0.15);\n",
              "      fill: #174EA6;\n",
              "    }\n",
              "\n",
              "    [theme=dark] .colab-df-convert {\n",
              "      background-color: #3B4455;\n",
              "      fill: #D2E3FC;\n",
              "    }\n",
              "\n",
              "    [theme=dark] .colab-df-convert:hover {\n",
              "      background-color: #434B5C;\n",
              "      box-shadow: 0px 1px 3px 1px rgba(0, 0, 0, 0.15);\n",
              "      filter: drop-shadow(0px 1px 2px rgba(0, 0, 0, 0.3));\n",
              "      fill: #FFFFFF;\n",
              "    }\n",
              "  </style>\n",
              "\n",
              "      <script>\n",
              "        const buttonEl =\n",
              "          document.querySelector('#df-3af8fddb-12e4-4e9a-a9c5-f6c0f381a064 button.colab-df-convert');\n",
              "        buttonEl.style.display =\n",
              "          google.colab.kernel.accessAllowed ? 'block' : 'none';\n",
              "\n",
              "        async function convertToInteractive(key) {\n",
              "          const element = document.querySelector('#df-3af8fddb-12e4-4e9a-a9c5-f6c0f381a064');\n",
              "          const dataTable =\n",
              "            await google.colab.kernel.invokeFunction('convertToInteractive',\n",
              "                                                     [key], {});\n",
              "          if (!dataTable) return;\n",
              "\n",
              "          const docLinkHtml = 'Like what you see? Visit the ' +\n",
              "            '<a target=\"_blank\" href=https://colab.research.google.com/notebooks/data_table.ipynb>data table notebook</a>'\n",
              "            + ' to learn more about interactive tables.';\n",
              "          element.innerHTML = '';\n",
              "          dataTable['output_type'] = 'display_data';\n",
              "          await google.colab.output.renderOutput(dataTable, element);\n",
              "          const docLink = document.createElement('div');\n",
              "          docLink.innerHTML = docLinkHtml;\n",
              "          element.appendChild(docLink);\n",
              "        }\n",
              "      </script>\n",
              "    </div>\n",
              "  </div>\n",
              "  "
            ],
            "text/plain": [
              "        title\n",
              "entity       \n",
              "DC         33\n",
              "MARVEL     57"
            ]
          },
          "metadata": {},
          "execution_count": 5
        }
      ]
    },
    {
      "cell_type": "markdown",
      "source": [
        "### What are the means, medians, maximums, etc., of the dataset?"
      ],
      "metadata": {
        "id": "NQHxPWaamA4v"
      }
    },
    {
      "cell_type": "code",
      "source": [
        "# Simple statistical analysis\n",
        "mdc.describe()"
      ],
      "metadata": {
        "colab": {
          "base_uri": "https://localhost:8080/",
          "height": 297
        },
        "id": "MT6zfziTpeiL",
        "outputId": "203dd380-cb01-4cbe-dbe2-89eb025dd46f"
      },
      "execution_count": 6,
      "outputs": [
        {
          "output_type": "execute_result",
          "data": {
            "text/html": [
              "\n",
              "  <div id=\"df-4dd58ae5-a0db-4079-aceb-9588fef570a9\">\n",
              "    <div class=\"colab-df-container\">\n",
              "      <div>\n",
              "<style scoped>\n",
              "    .dataframe tbody tr th:only-of-type {\n",
              "        vertical-align: middle;\n",
              "    }\n",
              "\n",
              "    .dataframe tbody tr th {\n",
              "        vertical-align: top;\n",
              "    }\n",
              "\n",
              "    .dataframe thead th {\n",
              "        text-align: right;\n",
              "    }\n",
              "</style>\n",
              "<table border=\"1\" class=\"dataframe\">\n",
              "  <thead>\n",
              "    <tr style=\"text-align: right;\">\n",
              "      <th></th>\n",
              "      <th>Unnamed: 0</th>\n",
              "      <th>year</th>\n",
              "      <th>runtime</th>\n",
              "      <th>imdb_rating</th>\n",
              "      <th>imdb_votes</th>\n",
              "      <th>imdb_gross</th>\n",
              "      <th>tomato_meter</th>\n",
              "      <th>tomato_review</th>\n",
              "      <th>tom_aud_score</th>\n",
              "      <th>tom_ratings</th>\n",
              "      <th>id</th>\n",
              "    </tr>\n",
              "  </thead>\n",
              "  <tbody>\n",
              "    <tr>\n",
              "      <th>count</th>\n",
              "      <td>90.000000</td>\n",
              "      <td>90.000000</td>\n",
              "      <td>90.000000</td>\n",
              "      <td>90.000000</td>\n",
              "      <td>9.000000e+01</td>\n",
              "      <td>9.000000e+01</td>\n",
              "      <td>90.000000</td>\n",
              "      <td>90.000000</td>\n",
              "      <td>90.000000</td>\n",
              "      <td>90.000000</td>\n",
              "      <td>90.000000</td>\n",
              "    </tr>\n",
              "    <tr>\n",
              "      <th>mean</th>\n",
              "      <td>45.500000</td>\n",
              "      <td>2006.377778</td>\n",
              "      <td>124.144444</td>\n",
              "      <td>6.552222</td>\n",
              "      <td>4.652830e+05</td>\n",
              "      <td>2.123682e+08</td>\n",
              "      <td>59.900000</td>\n",
              "      <td>266.966667</td>\n",
              "      <td>66.733333</td>\n",
              "      <td>150311.111111</td>\n",
              "      <td>45.500000</td>\n",
              "    </tr>\n",
              "    <tr>\n",
              "      <th>std</th>\n",
              "      <td>26.124701</td>\n",
              "      <td>14.335920</td>\n",
              "      <td>23.522192</td>\n",
              "      <td>1.271576</td>\n",
              "      <td>3.834906e+05</td>\n",
              "      <td>1.737576e+08</td>\n",
              "      <td>29.439731</td>\n",
              "      <td>144.250597</td>\n",
              "      <td>22.646179</td>\n",
              "      <td>98166.343799</td>\n",
              "      <td>26.124701</td>\n",
              "    </tr>\n",
              "    <tr>\n",
              "      <th>min</th>\n",
              "      <td>1.000000</td>\n",
              "      <td>1944.000000</td>\n",
              "      <td>58.000000</td>\n",
              "      <td>2.900000</td>\n",
              "      <td>8.440000e+02</td>\n",
              "      <td>0.000000e+00</td>\n",
              "      <td>0.000000</td>\n",
              "      <td>1.000000</td>\n",
              "      <td>15.000000</td>\n",
              "      <td>250.000000</td>\n",
              "      <td>1.000000</td>\n",
              "    </tr>\n",
              "    <tr>\n",
              "      <th>25%</th>\n",
              "      <td>23.250000</td>\n",
              "      <td>2003.250000</td>\n",
              "      <td>110.500000</td>\n",
              "      <td>5.700000</td>\n",
              "      <td>1.910570e+05</td>\n",
              "      <td>7.757250e+07</td>\n",
              "      <td>31.250000</td>\n",
              "      <td>156.250000</td>\n",
              "      <td>55.250000</td>\n",
              "      <td>50000.000000</td>\n",
              "      <td>23.250000</td>\n",
              "    </tr>\n",
              "    <tr>\n",
              "      <th>50%</th>\n",
              "      <td>45.500000</td>\n",
              "      <td>2011.000000</td>\n",
              "      <td>124.000000</td>\n",
              "      <td>6.900000</td>\n",
              "      <td>4.212640e+05</td>\n",
              "      <td>1.806150e+08</td>\n",
              "      <td>67.500000</td>\n",
              "      <td>277.500000</td>\n",
              "      <td>73.500000</td>\n",
              "      <td>100000.000000</td>\n",
              "      <td>45.500000</td>\n",
              "    </tr>\n",
              "    <tr>\n",
              "      <th>75%</th>\n",
              "      <td>67.750000</td>\n",
              "      <td>2016.000000</td>\n",
              "      <td>136.000000</td>\n",
              "      <td>7.400000</td>\n",
              "      <td>6.548668e+05</td>\n",
              "      <td>3.249725e+08</td>\n",
              "      <td>85.750000</td>\n",
              "      <td>377.250000</td>\n",
              "      <td>85.000000</td>\n",
              "      <td>250000.000000</td>\n",
              "      <td>67.750000</td>\n",
              "    </tr>\n",
              "    <tr>\n",
              "      <th>max</th>\n",
              "      <td>90.000000</td>\n",
              "      <td>2020.000000</td>\n",
              "      <td>244.000000</td>\n",
              "      <td>9.000000</td>\n",
              "      <td>2.369304e+06</td>\n",
              "      <td>8.583700e+08</td>\n",
              "      <td>96.000000</td>\n",
              "      <td>585.000000</td>\n",
              "      <td>95.000000</td>\n",
              "      <td>250000.000000</td>\n",
              "      <td>90.000000</td>\n",
              "    </tr>\n",
              "  </tbody>\n",
              "</table>\n",
              "</div>\n",
              "      <button class=\"colab-df-convert\" onclick=\"convertToInteractive('df-4dd58ae5-a0db-4079-aceb-9588fef570a9')\"\n",
              "              title=\"Convert this dataframe to an interactive table.\"\n",
              "              style=\"display:none;\">\n",
              "        \n",
              "  <svg xmlns=\"http://www.w3.org/2000/svg\" height=\"24px\"viewBox=\"0 0 24 24\"\n",
              "       width=\"24px\">\n",
              "    <path d=\"M0 0h24v24H0V0z\" fill=\"none\"/>\n",
              "    <path d=\"M18.56 5.44l.94 2.06.94-2.06 2.06-.94-2.06-.94-.94-2.06-.94 2.06-2.06.94zm-11 1L8.5 8.5l.94-2.06 2.06-.94-2.06-.94L8.5 2.5l-.94 2.06-2.06.94zm10 10l.94 2.06.94-2.06 2.06-.94-2.06-.94-.94-2.06-.94 2.06-2.06.94z\"/><path d=\"M17.41 7.96l-1.37-1.37c-.4-.4-.92-.59-1.43-.59-.52 0-1.04.2-1.43.59L10.3 9.45l-7.72 7.72c-.78.78-.78 2.05 0 2.83L4 21.41c.39.39.9.59 1.41.59.51 0 1.02-.2 1.41-.59l7.78-7.78 2.81-2.81c.8-.78.8-2.07 0-2.86zM5.41 20L4 18.59l7.72-7.72 1.47 1.35L5.41 20z\"/>\n",
              "  </svg>\n",
              "      </button>\n",
              "      \n",
              "  <style>\n",
              "    .colab-df-container {\n",
              "      display:flex;\n",
              "      flex-wrap:wrap;\n",
              "      gap: 12px;\n",
              "    }\n",
              "\n",
              "    .colab-df-convert {\n",
              "      background-color: #E8F0FE;\n",
              "      border: none;\n",
              "      border-radius: 50%;\n",
              "      cursor: pointer;\n",
              "      display: none;\n",
              "      fill: #1967D2;\n",
              "      height: 32px;\n",
              "      padding: 0 0 0 0;\n",
              "      width: 32px;\n",
              "    }\n",
              "\n",
              "    .colab-df-convert:hover {\n",
              "      background-color: #E2EBFA;\n",
              "      box-shadow: 0px 1px 2px rgba(60, 64, 67, 0.3), 0px 1px 3px 1px rgba(60, 64, 67, 0.15);\n",
              "      fill: #174EA6;\n",
              "    }\n",
              "\n",
              "    [theme=dark] .colab-df-convert {\n",
              "      background-color: #3B4455;\n",
              "      fill: #D2E3FC;\n",
              "    }\n",
              "\n",
              "    [theme=dark] .colab-df-convert:hover {\n",
              "      background-color: #434B5C;\n",
              "      box-shadow: 0px 1px 3px 1px rgba(0, 0, 0, 0.15);\n",
              "      filter: drop-shadow(0px 1px 2px rgba(0, 0, 0, 0.3));\n",
              "      fill: #FFFFFF;\n",
              "    }\n",
              "  </style>\n",
              "\n",
              "      <script>\n",
              "        const buttonEl =\n",
              "          document.querySelector('#df-4dd58ae5-a0db-4079-aceb-9588fef570a9 button.colab-df-convert');\n",
              "        buttonEl.style.display =\n",
              "          google.colab.kernel.accessAllowed ? 'block' : 'none';\n",
              "\n",
              "        async function convertToInteractive(key) {\n",
              "          const element = document.querySelector('#df-4dd58ae5-a0db-4079-aceb-9588fef570a9');\n",
              "          const dataTable =\n",
              "            await google.colab.kernel.invokeFunction('convertToInteractive',\n",
              "                                                     [key], {});\n",
              "          if (!dataTable) return;\n",
              "\n",
              "          const docLinkHtml = 'Like what you see? Visit the ' +\n",
              "            '<a target=\"_blank\" href=https://colab.research.google.com/notebooks/data_table.ipynb>data table notebook</a>'\n",
              "            + ' to learn more about interactive tables.';\n",
              "          element.innerHTML = '';\n",
              "          dataTable['output_type'] = 'display_data';\n",
              "          await google.colab.output.renderOutput(dataTable, element);\n",
              "          const docLink = document.createElement('div');\n",
              "          docLink.innerHTML = docLinkHtml;\n",
              "          element.appendChild(docLink);\n",
              "        }\n",
              "      </script>\n",
              "    </div>\n",
              "  </div>\n",
              "  "
            ],
            "text/plain": [
              "       Unnamed: 0         year  ...    tom_ratings         id\n",
              "count   90.000000    90.000000  ...      90.000000  90.000000\n",
              "mean    45.500000  2006.377778  ...  150311.111111  45.500000\n",
              "std     26.124701    14.335920  ...   98166.343799  26.124701\n",
              "min      1.000000  1944.000000  ...     250.000000   1.000000\n",
              "25%     23.250000  2003.250000  ...   50000.000000  23.250000\n",
              "50%     45.500000  2011.000000  ...  100000.000000  45.500000\n",
              "75%     67.750000  2016.000000  ...  250000.000000  67.750000\n",
              "max     90.000000  2020.000000  ...  250000.000000  90.000000\n",
              "\n",
              "[8 rows x 11 columns]"
            ]
          },
          "metadata": {},
          "execution_count": 6
        }
      ]
    },
    {
      "cell_type": "code",
      "source": [
        "# We can see a brief overview of the means for specific columns in order to compare the 2 companies\n",
        "grpdata = mdc.groupby('entity')[['title', 'year', 'genre', 'runtime', 'imdb_rating', 'imdb_votes', 'imdb_gross', 'tomato_meter', 'tom_aud_score', 'tom_ratings', 'entity']].mean()\n",
        "grpdata"
      ],
      "metadata": {
        "colab": {
          "base_uri": "https://localhost:8080/",
          "height": 142
        },
        "id": "M6OZpyVuqWng",
        "outputId": "e30c5db1-f7ac-470c-fdda-0d5285fb0127"
      },
      "execution_count": 7,
      "outputs": [
        {
          "output_type": "execute_result",
          "data": {
            "text/html": [
              "\n",
              "  <div id=\"df-81a64744-c8b1-48b0-8140-6ca98f631072\">\n",
              "    <div class=\"colab-df-container\">\n",
              "      <div>\n",
              "<style scoped>\n",
              "    .dataframe tbody tr th:only-of-type {\n",
              "        vertical-align: middle;\n",
              "    }\n",
              "\n",
              "    .dataframe tbody tr th {\n",
              "        vertical-align: top;\n",
              "    }\n",
              "\n",
              "    .dataframe thead th {\n",
              "        text-align: right;\n",
              "    }\n",
              "</style>\n",
              "<table border=\"1\" class=\"dataframe\">\n",
              "  <thead>\n",
              "    <tr style=\"text-align: right;\">\n",
              "      <th></th>\n",
              "      <th>year</th>\n",
              "      <th>runtime</th>\n",
              "      <th>imdb_rating</th>\n",
              "      <th>imdb_votes</th>\n",
              "      <th>imdb_gross</th>\n",
              "      <th>tomato_meter</th>\n",
              "      <th>tom_aud_score</th>\n",
              "      <th>tom_ratings</th>\n",
              "    </tr>\n",
              "    <tr>\n",
              "      <th>entity</th>\n",
              "      <th></th>\n",
              "      <th></th>\n",
              "      <th></th>\n",
              "      <th></th>\n",
              "      <th></th>\n",
              "      <th></th>\n",
              "      <th></th>\n",
              "      <th></th>\n",
              "    </tr>\n",
              "  </thead>\n",
              "  <tbody>\n",
              "    <tr>\n",
              "      <th>DC</th>\n",
              "      <td>2000.454545</td>\n",
              "      <td>123.454545</td>\n",
              "      <td>6.133333</td>\n",
              "      <td>407965.575758</td>\n",
              "      <td>1.608842e+08</td>\n",
              "      <td>52.454545</td>\n",
              "      <td>60.484848</td>\n",
              "      <td>131522.727273</td>\n",
              "    </tr>\n",
              "    <tr>\n",
              "      <th>MARVEL</th>\n",
              "      <td>2009.807018</td>\n",
              "      <td>124.543860</td>\n",
              "      <td>6.794737</td>\n",
              "      <td>498466.842105</td>\n",
              "      <td>2.421747e+08</td>\n",
              "      <td>64.210526</td>\n",
              "      <td>70.350877</td>\n",
              "      <td>161188.596491</td>\n",
              "    </tr>\n",
              "  </tbody>\n",
              "</table>\n",
              "</div>\n",
              "      <button class=\"colab-df-convert\" onclick=\"convertToInteractive('df-81a64744-c8b1-48b0-8140-6ca98f631072')\"\n",
              "              title=\"Convert this dataframe to an interactive table.\"\n",
              "              style=\"display:none;\">\n",
              "        \n",
              "  <svg xmlns=\"http://www.w3.org/2000/svg\" height=\"24px\"viewBox=\"0 0 24 24\"\n",
              "       width=\"24px\">\n",
              "    <path d=\"M0 0h24v24H0V0z\" fill=\"none\"/>\n",
              "    <path d=\"M18.56 5.44l.94 2.06.94-2.06 2.06-.94-2.06-.94-.94-2.06-.94 2.06-2.06.94zm-11 1L8.5 8.5l.94-2.06 2.06-.94-2.06-.94L8.5 2.5l-.94 2.06-2.06.94zm10 10l.94 2.06.94-2.06 2.06-.94-2.06-.94-.94-2.06-.94 2.06-2.06.94z\"/><path d=\"M17.41 7.96l-1.37-1.37c-.4-.4-.92-.59-1.43-.59-.52 0-1.04.2-1.43.59L10.3 9.45l-7.72 7.72c-.78.78-.78 2.05 0 2.83L4 21.41c.39.39.9.59 1.41.59.51 0 1.02-.2 1.41-.59l7.78-7.78 2.81-2.81c.8-.78.8-2.07 0-2.86zM5.41 20L4 18.59l7.72-7.72 1.47 1.35L5.41 20z\"/>\n",
              "  </svg>\n",
              "      </button>\n",
              "      \n",
              "  <style>\n",
              "    .colab-df-container {\n",
              "      display:flex;\n",
              "      flex-wrap:wrap;\n",
              "      gap: 12px;\n",
              "    }\n",
              "\n",
              "    .colab-df-convert {\n",
              "      background-color: #E8F0FE;\n",
              "      border: none;\n",
              "      border-radius: 50%;\n",
              "      cursor: pointer;\n",
              "      display: none;\n",
              "      fill: #1967D2;\n",
              "      height: 32px;\n",
              "      padding: 0 0 0 0;\n",
              "      width: 32px;\n",
              "    }\n",
              "\n",
              "    .colab-df-convert:hover {\n",
              "      background-color: #E2EBFA;\n",
              "      box-shadow: 0px 1px 2px rgba(60, 64, 67, 0.3), 0px 1px 3px 1px rgba(60, 64, 67, 0.15);\n",
              "      fill: #174EA6;\n",
              "    }\n",
              "\n",
              "    [theme=dark] .colab-df-convert {\n",
              "      background-color: #3B4455;\n",
              "      fill: #D2E3FC;\n",
              "    }\n",
              "\n",
              "    [theme=dark] .colab-df-convert:hover {\n",
              "      background-color: #434B5C;\n",
              "      box-shadow: 0px 1px 3px 1px rgba(0, 0, 0, 0.15);\n",
              "      filter: drop-shadow(0px 1px 2px rgba(0, 0, 0, 0.3));\n",
              "      fill: #FFFFFF;\n",
              "    }\n",
              "  </style>\n",
              "\n",
              "      <script>\n",
              "        const buttonEl =\n",
              "          document.querySelector('#df-81a64744-c8b1-48b0-8140-6ca98f631072 button.colab-df-convert');\n",
              "        buttonEl.style.display =\n",
              "          google.colab.kernel.accessAllowed ? 'block' : 'none';\n",
              "\n",
              "        async function convertToInteractive(key) {\n",
              "          const element = document.querySelector('#df-81a64744-c8b1-48b0-8140-6ca98f631072');\n",
              "          const dataTable =\n",
              "            await google.colab.kernel.invokeFunction('convertToInteractive',\n",
              "                                                     [key], {});\n",
              "          if (!dataTable) return;\n",
              "\n",
              "          const docLinkHtml = 'Like what you see? Visit the ' +\n",
              "            '<a target=\"_blank\" href=https://colab.research.google.com/notebooks/data_table.ipynb>data table notebook</a>'\n",
              "            + ' to learn more about interactive tables.';\n",
              "          element.innerHTML = '';\n",
              "          dataTable['output_type'] = 'display_data';\n",
              "          await google.colab.output.renderOutput(dataTable, element);\n",
              "          const docLink = document.createElement('div');\n",
              "          docLink.innerHTML = docLinkHtml;\n",
              "          element.appendChild(docLink);\n",
              "        }\n",
              "      </script>\n",
              "    </div>\n",
              "  </div>\n",
              "  "
            ],
            "text/plain": [
              "               year     runtime  ...  tom_aud_score    tom_ratings\n",
              "entity                           ...                              \n",
              "DC      2000.454545  123.454545  ...      60.484848  131522.727273\n",
              "MARVEL  2009.807018  124.543860  ...      70.350877  161188.596491\n",
              "\n",
              "[2 rows x 8 columns]"
            ]
          },
          "metadata": {},
          "execution_count": 7
        }
      ]
    },
    {
      "cell_type": "code",
      "source": [
        "# Here are the top 5 longest movies\n",
        "mdc[['title','year','runtime','imdb_rating','entity']].sort_values(by = ['runtime'], ascending = False).head()"
      ],
      "metadata": {
        "colab": {
          "base_uri": "https://localhost:8080/",
          "height": 204
        },
        "id": "c5JQYFOSs1Qs",
        "outputId": "6cfa0486-9e33-4cb3-d924-819b20cc8bf3"
      },
      "execution_count": 8,
      "outputs": [
        {
          "output_type": "execute_result",
          "data": {
            "text/html": [
              "\n",
              "  <div id=\"df-c53bc20e-f908-4e40-b077-7853a7f2def7\">\n",
              "    <div class=\"colab-df-container\">\n",
              "      <div>\n",
              "<style scoped>\n",
              "    .dataframe tbody tr th:only-of-type {\n",
              "        vertical-align: middle;\n",
              "    }\n",
              "\n",
              "    .dataframe tbody tr th {\n",
              "        vertical-align: top;\n",
              "    }\n",
              "\n",
              "    .dataframe thead th {\n",
              "        text-align: right;\n",
              "    }\n",
              "</style>\n",
              "<table border=\"1\" class=\"dataframe\">\n",
              "  <thead>\n",
              "    <tr style=\"text-align: right;\">\n",
              "      <th></th>\n",
              "      <th>title</th>\n",
              "      <th>year</th>\n",
              "      <th>runtime</th>\n",
              "      <th>imdb_rating</th>\n",
              "      <th>entity</th>\n",
              "    </tr>\n",
              "  </thead>\n",
              "  <tbody>\n",
              "    <tr>\n",
              "      <th>0</th>\n",
              "      <td>Captain America</td>\n",
              "      <td>1944</td>\n",
              "      <td>244</td>\n",
              "      <td>5.5</td>\n",
              "      <td>MARVEL</td>\n",
              "    </tr>\n",
              "    <tr>\n",
              "      <th>53</th>\n",
              "      <td>Avengers: Endgame</td>\n",
              "      <td>2019</td>\n",
              "      <td>181</td>\n",
              "      <td>8.4</td>\n",
              "      <td>MARVEL</td>\n",
              "    </tr>\n",
              "    <tr>\n",
              "      <th>79</th>\n",
              "      <td>The Dark Knight Rises</td>\n",
              "      <td>2012</td>\n",
              "      <td>164</td>\n",
              "      <td>8.4</td>\n",
              "      <td>DC</td>\n",
              "    </tr>\n",
              "    <tr>\n",
              "      <th>76</th>\n",
              "      <td>Watchmen</td>\n",
              "      <td>2009</td>\n",
              "      <td>162</td>\n",
              "      <td>7.6</td>\n",
              "      <td>DC</td>\n",
              "    </tr>\n",
              "    <tr>\n",
              "      <th>74</th>\n",
              "      <td>Superman Returns</td>\n",
              "      <td>2006</td>\n",
              "      <td>154</td>\n",
              "      <td>6.0</td>\n",
              "      <td>DC</td>\n",
              "    </tr>\n",
              "  </tbody>\n",
              "</table>\n",
              "</div>\n",
              "      <button class=\"colab-df-convert\" onclick=\"convertToInteractive('df-c53bc20e-f908-4e40-b077-7853a7f2def7')\"\n",
              "              title=\"Convert this dataframe to an interactive table.\"\n",
              "              style=\"display:none;\">\n",
              "        \n",
              "  <svg xmlns=\"http://www.w3.org/2000/svg\" height=\"24px\"viewBox=\"0 0 24 24\"\n",
              "       width=\"24px\">\n",
              "    <path d=\"M0 0h24v24H0V0z\" fill=\"none\"/>\n",
              "    <path d=\"M18.56 5.44l.94 2.06.94-2.06 2.06-.94-2.06-.94-.94-2.06-.94 2.06-2.06.94zm-11 1L8.5 8.5l.94-2.06 2.06-.94-2.06-.94L8.5 2.5l-.94 2.06-2.06.94zm10 10l.94 2.06.94-2.06 2.06-.94-2.06-.94-.94-2.06-.94 2.06-2.06.94z\"/><path d=\"M17.41 7.96l-1.37-1.37c-.4-.4-.92-.59-1.43-.59-.52 0-1.04.2-1.43.59L10.3 9.45l-7.72 7.72c-.78.78-.78 2.05 0 2.83L4 21.41c.39.39.9.59 1.41.59.51 0 1.02-.2 1.41-.59l7.78-7.78 2.81-2.81c.8-.78.8-2.07 0-2.86zM5.41 20L4 18.59l7.72-7.72 1.47 1.35L5.41 20z\"/>\n",
              "  </svg>\n",
              "      </button>\n",
              "      \n",
              "  <style>\n",
              "    .colab-df-container {\n",
              "      display:flex;\n",
              "      flex-wrap:wrap;\n",
              "      gap: 12px;\n",
              "    }\n",
              "\n",
              "    .colab-df-convert {\n",
              "      background-color: #E8F0FE;\n",
              "      border: none;\n",
              "      border-radius: 50%;\n",
              "      cursor: pointer;\n",
              "      display: none;\n",
              "      fill: #1967D2;\n",
              "      height: 32px;\n",
              "      padding: 0 0 0 0;\n",
              "      width: 32px;\n",
              "    }\n",
              "\n",
              "    .colab-df-convert:hover {\n",
              "      background-color: #E2EBFA;\n",
              "      box-shadow: 0px 1px 2px rgba(60, 64, 67, 0.3), 0px 1px 3px 1px rgba(60, 64, 67, 0.15);\n",
              "      fill: #174EA6;\n",
              "    }\n",
              "\n",
              "    [theme=dark] .colab-df-convert {\n",
              "      background-color: #3B4455;\n",
              "      fill: #D2E3FC;\n",
              "    }\n",
              "\n",
              "    [theme=dark] .colab-df-convert:hover {\n",
              "      background-color: #434B5C;\n",
              "      box-shadow: 0px 1px 3px 1px rgba(0, 0, 0, 0.15);\n",
              "      filter: drop-shadow(0px 1px 2px rgba(0, 0, 0, 0.3));\n",
              "      fill: #FFFFFF;\n",
              "    }\n",
              "  </style>\n",
              "\n",
              "      <script>\n",
              "        const buttonEl =\n",
              "          document.querySelector('#df-c53bc20e-f908-4e40-b077-7853a7f2def7 button.colab-df-convert');\n",
              "        buttonEl.style.display =\n",
              "          google.colab.kernel.accessAllowed ? 'block' : 'none';\n",
              "\n",
              "        async function convertToInteractive(key) {\n",
              "          const element = document.querySelector('#df-c53bc20e-f908-4e40-b077-7853a7f2def7');\n",
              "          const dataTable =\n",
              "            await google.colab.kernel.invokeFunction('convertToInteractive',\n",
              "                                                     [key], {});\n",
              "          if (!dataTable) return;\n",
              "\n",
              "          const docLinkHtml = 'Like what you see? Visit the ' +\n",
              "            '<a target=\"_blank\" href=https://colab.research.google.com/notebooks/data_table.ipynb>data table notebook</a>'\n",
              "            + ' to learn more about interactive tables.';\n",
              "          element.innerHTML = '';\n",
              "          dataTable['output_type'] = 'display_data';\n",
              "          await google.colab.output.renderOutput(dataTable, element);\n",
              "          const docLink = document.createElement('div');\n",
              "          docLink.innerHTML = docLinkHtml;\n",
              "          element.appendChild(docLink);\n",
              "        }\n",
              "      </script>\n",
              "    </div>\n",
              "  </div>\n",
              "  "
            ],
            "text/plain": [
              "                    title  year  runtime  imdb_rating  entity\n",
              "0         Captain America  1944      244          5.5  MARVEL\n",
              "53      Avengers: Endgame  2019      181          8.4  MARVEL\n",
              "79  The Dark Knight Rises  2012      164          8.4      DC\n",
              "76               Watchmen  2009      162          7.6      DC\n",
              "74       Superman Returns  2006      154          6.0      DC"
            ]
          },
          "metadata": {},
          "execution_count": 8
        }
      ]
    },
    {
      "cell_type": "code",
      "source": [
        "# Here are the top 5 highest rated movies based on IMDB ratings\n",
        "mdc[['title','year','runtime','imdb_rating','entity']].sort_values(by = ['imdb_rating'], ascending = False).head()"
      ],
      "metadata": {
        "colab": {
          "base_uri": "https://localhost:8080/",
          "height": 204
        },
        "id": "ZXdn4QnBt3xN",
        "outputId": "be3489df-19b9-4377-ed36-e52b1a8c414f"
      },
      "execution_count": 9,
      "outputs": [
        {
          "output_type": "execute_result",
          "data": {
            "text/html": [
              "\n",
              "  <div id=\"df-d6ea7b03-96aa-4109-94a0-2b873078b369\">\n",
              "    <div class=\"colab-df-container\">\n",
              "      <div>\n",
              "<style scoped>\n",
              "    .dataframe tbody tr th:only-of-type {\n",
              "        vertical-align: middle;\n",
              "    }\n",
              "\n",
              "    .dataframe tbody tr th {\n",
              "        vertical-align: top;\n",
              "    }\n",
              "\n",
              "    .dataframe thead th {\n",
              "        text-align: right;\n",
              "    }\n",
              "</style>\n",
              "<table border=\"1\" class=\"dataframe\">\n",
              "  <thead>\n",
              "    <tr style=\"text-align: right;\">\n",
              "      <th></th>\n",
              "      <th>title</th>\n",
              "      <th>year</th>\n",
              "      <th>runtime</th>\n",
              "      <th>imdb_rating</th>\n",
              "      <th>entity</th>\n",
              "    </tr>\n",
              "  </thead>\n",
              "  <tbody>\n",
              "    <tr>\n",
              "      <th>75</th>\n",
              "      <td>The Dark Knight</td>\n",
              "      <td>2008</td>\n",
              "      <td>152</td>\n",
              "      <td>9.0</td>\n",
              "      <td>DC</td>\n",
              "    </tr>\n",
              "    <tr>\n",
              "      <th>87</th>\n",
              "      <td>Joker</td>\n",
              "      <td>2019</td>\n",
              "      <td>122</td>\n",
              "      <td>8.4</td>\n",
              "      <td>DC</td>\n",
              "    </tr>\n",
              "    <tr>\n",
              "      <th>79</th>\n",
              "      <td>The Dark Knight Rises</td>\n",
              "      <td>2012</td>\n",
              "      <td>164</td>\n",
              "      <td>8.4</td>\n",
              "      <td>DC</td>\n",
              "    </tr>\n",
              "    <tr>\n",
              "      <th>53</th>\n",
              "      <td>Avengers: Endgame</td>\n",
              "      <td>2019</td>\n",
              "      <td>181</td>\n",
              "      <td>8.4</td>\n",
              "      <td>MARVEL</td>\n",
              "    </tr>\n",
              "    <tr>\n",
              "      <th>48</th>\n",
              "      <td>Avengers: Infinity War</td>\n",
              "      <td>2018</td>\n",
              "      <td>149</td>\n",
              "      <td>8.4</td>\n",
              "      <td>MARVEL</td>\n",
              "    </tr>\n",
              "  </tbody>\n",
              "</table>\n",
              "</div>\n",
              "      <button class=\"colab-df-convert\" onclick=\"convertToInteractive('df-d6ea7b03-96aa-4109-94a0-2b873078b369')\"\n",
              "              title=\"Convert this dataframe to an interactive table.\"\n",
              "              style=\"display:none;\">\n",
              "        \n",
              "  <svg xmlns=\"http://www.w3.org/2000/svg\" height=\"24px\"viewBox=\"0 0 24 24\"\n",
              "       width=\"24px\">\n",
              "    <path d=\"M0 0h24v24H0V0z\" fill=\"none\"/>\n",
              "    <path d=\"M18.56 5.44l.94 2.06.94-2.06 2.06-.94-2.06-.94-.94-2.06-.94 2.06-2.06.94zm-11 1L8.5 8.5l.94-2.06 2.06-.94-2.06-.94L8.5 2.5l-.94 2.06-2.06.94zm10 10l.94 2.06.94-2.06 2.06-.94-2.06-.94-.94-2.06-.94 2.06-2.06.94z\"/><path d=\"M17.41 7.96l-1.37-1.37c-.4-.4-.92-.59-1.43-.59-.52 0-1.04.2-1.43.59L10.3 9.45l-7.72 7.72c-.78.78-.78 2.05 0 2.83L4 21.41c.39.39.9.59 1.41.59.51 0 1.02-.2 1.41-.59l7.78-7.78 2.81-2.81c.8-.78.8-2.07 0-2.86zM5.41 20L4 18.59l7.72-7.72 1.47 1.35L5.41 20z\"/>\n",
              "  </svg>\n",
              "      </button>\n",
              "      \n",
              "  <style>\n",
              "    .colab-df-container {\n",
              "      display:flex;\n",
              "      flex-wrap:wrap;\n",
              "      gap: 12px;\n",
              "    }\n",
              "\n",
              "    .colab-df-convert {\n",
              "      background-color: #E8F0FE;\n",
              "      border: none;\n",
              "      border-radius: 50%;\n",
              "      cursor: pointer;\n",
              "      display: none;\n",
              "      fill: #1967D2;\n",
              "      height: 32px;\n",
              "      padding: 0 0 0 0;\n",
              "      width: 32px;\n",
              "    }\n",
              "\n",
              "    .colab-df-convert:hover {\n",
              "      background-color: #E2EBFA;\n",
              "      box-shadow: 0px 1px 2px rgba(60, 64, 67, 0.3), 0px 1px 3px 1px rgba(60, 64, 67, 0.15);\n",
              "      fill: #174EA6;\n",
              "    }\n",
              "\n",
              "    [theme=dark] .colab-df-convert {\n",
              "      background-color: #3B4455;\n",
              "      fill: #D2E3FC;\n",
              "    }\n",
              "\n",
              "    [theme=dark] .colab-df-convert:hover {\n",
              "      background-color: #434B5C;\n",
              "      box-shadow: 0px 1px 3px 1px rgba(0, 0, 0, 0.15);\n",
              "      filter: drop-shadow(0px 1px 2px rgba(0, 0, 0, 0.3));\n",
              "      fill: #FFFFFF;\n",
              "    }\n",
              "  </style>\n",
              "\n",
              "      <script>\n",
              "        const buttonEl =\n",
              "          document.querySelector('#df-d6ea7b03-96aa-4109-94a0-2b873078b369 button.colab-df-convert');\n",
              "        buttonEl.style.display =\n",
              "          google.colab.kernel.accessAllowed ? 'block' : 'none';\n",
              "\n",
              "        async function convertToInteractive(key) {\n",
              "          const element = document.querySelector('#df-d6ea7b03-96aa-4109-94a0-2b873078b369');\n",
              "          const dataTable =\n",
              "            await google.colab.kernel.invokeFunction('convertToInteractive',\n",
              "                                                     [key], {});\n",
              "          if (!dataTable) return;\n",
              "\n",
              "          const docLinkHtml = 'Like what you see? Visit the ' +\n",
              "            '<a target=\"_blank\" href=https://colab.research.google.com/notebooks/data_table.ipynb>data table notebook</a>'\n",
              "            + ' to learn more about interactive tables.';\n",
              "          element.innerHTML = '';\n",
              "          dataTable['output_type'] = 'display_data';\n",
              "          await google.colab.output.renderOutput(dataTable, element);\n",
              "          const docLink = document.createElement('div');\n",
              "          docLink.innerHTML = docLinkHtml;\n",
              "          element.appendChild(docLink);\n",
              "        }\n",
              "      </script>\n",
              "    </div>\n",
              "  </div>\n",
              "  "
            ],
            "text/plain": [
              "                     title  year  runtime  imdb_rating  entity\n",
              "75         The Dark Knight  2008      152          9.0      DC\n",
              "87                   Joker  2019      122          8.4      DC\n",
              "79   The Dark Knight Rises  2012      164          8.4      DC\n",
              "53       Avengers: Endgame  2019      181          8.4  MARVEL\n",
              "48  Avengers: Infinity War  2018      149          8.4  MARVEL"
            ]
          },
          "metadata": {},
          "execution_count": 9
        }
      ]
    },
    {
      "cell_type": "code",
      "source": [
        "# Here are the top 5 highest rated movies based on their Tomato meter\n",
        "mdc[['title','year','runtime','tomato_meter','entity']].sort_values(by = ['tomato_meter'], ascending = False).head()"
      ],
      "metadata": {
        "colab": {
          "base_uri": "https://localhost:8080/",
          "height": 204
        },
        "id": "deGfnFlo6mEW",
        "outputId": "eca80d8a-3788-41a4-ae8a-0d6eaefd6fd9"
      },
      "execution_count": 10,
      "outputs": [
        {
          "output_type": "execute_result",
          "data": {
            "text/html": [
              "\n",
              "  <div id=\"df-efff7912-db85-45e6-a162-f36b0c24a6bc\">\n",
              "    <div class=\"colab-df-container\">\n",
              "      <div>\n",
              "<style scoped>\n",
              "    .dataframe tbody tr th:only-of-type {\n",
              "        vertical-align: middle;\n",
              "    }\n",
              "\n",
              "    .dataframe tbody tr th {\n",
              "        vertical-align: top;\n",
              "    }\n",
              "\n",
              "    .dataframe thead th {\n",
              "        text-align: right;\n",
              "    }\n",
              "</style>\n",
              "<table border=\"1\" class=\"dataframe\">\n",
              "  <thead>\n",
              "    <tr style=\"text-align: right;\">\n",
              "      <th></th>\n",
              "      <th>title</th>\n",
              "      <th>year</th>\n",
              "      <th>runtime</th>\n",
              "      <th>tomato_meter</th>\n",
              "      <th>entity</th>\n",
              "    </tr>\n",
              "  </thead>\n",
              "  <tbody>\n",
              "    <tr>\n",
              "      <th>47</th>\n",
              "      <td>Black Panther</td>\n",
              "      <td>2018</td>\n",
              "      <td>134</td>\n",
              "      <td>96</td>\n",
              "      <td>MARVEL</td>\n",
              "    </tr>\n",
              "    <tr>\n",
              "      <th>53</th>\n",
              "      <td>Avengers: Endgame</td>\n",
              "      <td>2019</td>\n",
              "      <td>181</td>\n",
              "      <td>94</td>\n",
              "      <td>MARVEL</td>\n",
              "    </tr>\n",
              "    <tr>\n",
              "      <th>59</th>\n",
              "      <td>Superman</td>\n",
              "      <td>1978</td>\n",
              "      <td>143</td>\n",
              "      <td>94</td>\n",
              "      <td>DC</td>\n",
              "    </tr>\n",
              "    <tr>\n",
              "      <th>18</th>\n",
              "      <td>Iron Man</td>\n",
              "      <td>2008</td>\n",
              "      <td>126</td>\n",
              "      <td>94</td>\n",
              "      <td>MARVEL</td>\n",
              "    </tr>\n",
              "    <tr>\n",
              "      <th>75</th>\n",
              "      <td>The Dark Knight</td>\n",
              "      <td>2008</td>\n",
              "      <td>152</td>\n",
              "      <td>94</td>\n",
              "      <td>DC</td>\n",
              "    </tr>\n",
              "  </tbody>\n",
              "</table>\n",
              "</div>\n",
              "      <button class=\"colab-df-convert\" onclick=\"convertToInteractive('df-efff7912-db85-45e6-a162-f36b0c24a6bc')\"\n",
              "              title=\"Convert this dataframe to an interactive table.\"\n",
              "              style=\"display:none;\">\n",
              "        \n",
              "  <svg xmlns=\"http://www.w3.org/2000/svg\" height=\"24px\"viewBox=\"0 0 24 24\"\n",
              "       width=\"24px\">\n",
              "    <path d=\"M0 0h24v24H0V0z\" fill=\"none\"/>\n",
              "    <path d=\"M18.56 5.44l.94 2.06.94-2.06 2.06-.94-2.06-.94-.94-2.06-.94 2.06-2.06.94zm-11 1L8.5 8.5l.94-2.06 2.06-.94-2.06-.94L8.5 2.5l-.94 2.06-2.06.94zm10 10l.94 2.06.94-2.06 2.06-.94-2.06-.94-.94-2.06-.94 2.06-2.06.94z\"/><path d=\"M17.41 7.96l-1.37-1.37c-.4-.4-.92-.59-1.43-.59-.52 0-1.04.2-1.43.59L10.3 9.45l-7.72 7.72c-.78.78-.78 2.05 0 2.83L4 21.41c.39.39.9.59 1.41.59.51 0 1.02-.2 1.41-.59l7.78-7.78 2.81-2.81c.8-.78.8-2.07 0-2.86zM5.41 20L4 18.59l7.72-7.72 1.47 1.35L5.41 20z\"/>\n",
              "  </svg>\n",
              "      </button>\n",
              "      \n",
              "  <style>\n",
              "    .colab-df-container {\n",
              "      display:flex;\n",
              "      flex-wrap:wrap;\n",
              "      gap: 12px;\n",
              "    }\n",
              "\n",
              "    .colab-df-convert {\n",
              "      background-color: #E8F0FE;\n",
              "      border: none;\n",
              "      border-radius: 50%;\n",
              "      cursor: pointer;\n",
              "      display: none;\n",
              "      fill: #1967D2;\n",
              "      height: 32px;\n",
              "      padding: 0 0 0 0;\n",
              "      width: 32px;\n",
              "    }\n",
              "\n",
              "    .colab-df-convert:hover {\n",
              "      background-color: #E2EBFA;\n",
              "      box-shadow: 0px 1px 2px rgba(60, 64, 67, 0.3), 0px 1px 3px 1px rgba(60, 64, 67, 0.15);\n",
              "      fill: #174EA6;\n",
              "    }\n",
              "\n",
              "    [theme=dark] .colab-df-convert {\n",
              "      background-color: #3B4455;\n",
              "      fill: #D2E3FC;\n",
              "    }\n",
              "\n",
              "    [theme=dark] .colab-df-convert:hover {\n",
              "      background-color: #434B5C;\n",
              "      box-shadow: 0px 1px 3px 1px rgba(0, 0, 0, 0.15);\n",
              "      filter: drop-shadow(0px 1px 2px rgba(0, 0, 0, 0.3));\n",
              "      fill: #FFFFFF;\n",
              "    }\n",
              "  </style>\n",
              "\n",
              "      <script>\n",
              "        const buttonEl =\n",
              "          document.querySelector('#df-efff7912-db85-45e6-a162-f36b0c24a6bc button.colab-df-convert');\n",
              "        buttonEl.style.display =\n",
              "          google.colab.kernel.accessAllowed ? 'block' : 'none';\n",
              "\n",
              "        async function convertToInteractive(key) {\n",
              "          const element = document.querySelector('#df-efff7912-db85-45e6-a162-f36b0c24a6bc');\n",
              "          const dataTable =\n",
              "            await google.colab.kernel.invokeFunction('convertToInteractive',\n",
              "                                                     [key], {});\n",
              "          if (!dataTable) return;\n",
              "\n",
              "          const docLinkHtml = 'Like what you see? Visit the ' +\n",
              "            '<a target=\"_blank\" href=https://colab.research.google.com/notebooks/data_table.ipynb>data table notebook</a>'\n",
              "            + ' to learn more about interactive tables.';\n",
              "          element.innerHTML = '';\n",
              "          dataTable['output_type'] = 'display_data';\n",
              "          await google.colab.output.renderOutput(dataTable, element);\n",
              "          const docLink = document.createElement('div');\n",
              "          docLink.innerHTML = docLinkHtml;\n",
              "          element.appendChild(docLink);\n",
              "        }\n",
              "      </script>\n",
              "    </div>\n",
              "  </div>\n",
              "  "
            ],
            "text/plain": [
              "                title  year  runtime  tomato_meter  entity\n",
              "47      Black Panther  2018      134            96  MARVEL\n",
              "53  Avengers: Endgame  2019      181            94  MARVEL\n",
              "59           Superman  1978      143            94      DC\n",
              "18           Iron Man  2008      126            94  MARVEL\n",
              "75    The Dark Knight  2008      152            94      DC"
            ]
          },
          "metadata": {},
          "execution_count": 10
        }
      ]
    },
    {
      "cell_type": "markdown",
      "source": [
        "## Data Analysis\n",
        "\n",
        "After getting familiar with our data, we can begin analyzing the data further to find any trends, patterns, or any useful insights such as relationships."
      ],
      "metadata": {
        "id": "FBYt7vB4GMkM"
      }
    },
    {
      "cell_type": "markdown",
      "source": [
        "### How are the IMDB ratings distributed?"
      ],
      "metadata": {
        "id": "lVsTUUfheDBb"
      }
    },
    {
      "cell_type": "code",
      "source": [
        "# Histogram that shows us how many of each IMDB rating the companies received\n",
        "fig = plt.figure(figsize = (10,8))\n",
        "sns.histplot(data = mdc, \n",
        "             x = 'imdb_rating', \n",
        "             kde = True, \n",
        "             hue = 'entity', \n",
        "             multiple = 'dodge', \n",
        "             shrink = 0.8, \n",
        "             palette = 'Set1');"
      ],
      "metadata": {
        "colab": {
          "base_uri": "https://localhost:8080/",
          "height": 498
        },
        "id": "2hDphgXZ8exf",
        "outputId": "0d2339fc-c4a9-4923-c53d-c003d88759d8"
      },
      "execution_count": 76,
      "outputs": [
        {
          "output_type": "display_data",
          "data": {
            "image/png": "[encoded data removed]",
            "text/plain": [
              "<Figure size 720x576 with 1 Axes>"
            ]
          },
          "metadata": {
            "needs_background": "light"
          }
        }
      ]
    },
    {
      "cell_type": "markdown",
      "source": [
        "Observations:\n",
        "\n",
        "The IMDB ratings for Marvel films is more left-skewed, while the ratings for DC films is more normally distributed. We can also see that the majority of Marvel films recevied a 6.5-7.5 rating while DC films received around a 7.5 rating more than any other number."
      ],
      "metadata": {
        "id": "JDFYn2MPcQSf"
      }
    },
    {
      "cell_type": "markdown",
      "source": [
        "\n",
        "---\n"
      ],
      "metadata": {
        "id": "HvIrviEZcSqh"
      }
    },
    {
      "cell_type": "markdown",
      "source": [
        "### What is the total gross per year for each company?"
      ],
      "metadata": {
        "id": "t6uflNEeeLc2"
      }
    },
    {
      "cell_type": "code",
      "source": [
        "# Barplot showing the total domestic box office gross for each year since 2000\n",
        "filterdata = mdc[mdc['year'] >= 2000]\n",
        "fig = plt.figure(figsize = (10,12))\n",
        "sns.barplot(data = filterdata, \n",
        "            x = 'imdb_gross', \n",
        "            y = 'year', \n",
        "            hue = 'entity', \n",
        "            ci = None, \n",
        "            estimator = sum, \n",
        "            palette = 'Set1',\n",
        "            orient = 'h');"
      ],
      "metadata": {
        "colab": {
          "base_uri": "https://localhost:8080/",
          "height": 715
        },
        "id": "kvcG1FVK7X0R",
        "outputId": "bb49514f-f5f3-49ee-b9cf-bdbcbb905441"
      },
      "execution_count": 80,
      "outputs": [
        {
          "output_type": "display_data",
          "data": {
            "image/png": "[encoded data removed]",
            "text/plain": [
              "<Figure size 720x864 with 1 Axes>"
            ]
          },
          "metadata": {
            "needs_background": "light"
          }
        }
      ]
    },
    {
      "cell_type": "markdown",
      "source": [
        "Observations:\n",
        "\n",
        "We can see that Marvel has made a bigger profit than DC nearly every year. DC's profits are also relatively consistent, while Marvel has been slowly increasing over the last 10 years. Could this be because Marvel has been increasing the number of films each year?"
      ],
      "metadata": {
        "id": "ghzzF-MyeR--"
      }
    },
    {
      "cell_type": "code",
      "source": [
        "# This barplot displays the number of films released each year by each company\n",
        "fig = plt.figure(figsize = (10,8))\n",
        "sns.histplot(data = mdc, x = 'year', \n",
        "             hue = 'entity', \n",
        "             multiple = 'dodge', \n",
        "             shrink = 0.8, \n",
        "             palette = 'Set1');"
      ],
      "metadata": {
        "colab": {
          "base_uri": "https://localhost:8080/",
          "height": 497
        },
        "id": "gKczZlVTgLIi",
        "outputId": "ff69d250-7b18-456b-c246-c5024bb5cf9b"
      },
      "execution_count": 74,
      "outputs": [
        {
          "output_type": "display_data",
          "data": {
            "image/png": "[encoded data removed]",
            "text/plain": [
              "<Figure size 720x576 with 1 Axes>"
            ]
          },
          "metadata": {
            "needs_background": "light"
          }
        }
      ]
    },
    {
      "cell_type": "markdown",
      "source": [
        "Observations:\n",
        "\n",
        "Now we can see that Marvel is in fact increasing the number of films released for the last few years, which can explain its exponential growth in revenue. This means that taking the average box office gross would be more appropriate when comparing DC to Marvel."
      ],
      "metadata": {
        "id": "knTviCFsi6ep"
      }
    },
    {
      "cell_type": "code",
      "source": [
        "# This barplot compares the average domestic box office gross for each year since 2000\n",
        "filterdata = mdc[mdc['year'] >= 2000]\n",
        "fig = plt.figure(figsize = (10,12))\n",
        "sns.barplot(data = filterdata, \n",
        "            x = 'imdb_gross', \n",
        "            y = 'year', \n",
        "            hue = 'entity', \n",
        "            ci = None, \n",
        "            palette = 'Set1',\n",
        "            orient = 'h');"
      ],
      "metadata": {
        "colab": {
          "base_uri": "https://localhost:8080/",
          "height": 715
        },
        "id": "fYFbfKkzjdmi",
        "outputId": "a34c05e4-216a-4ed2-bbb2-1e71c31416e6"
      },
      "execution_count": 81,
      "outputs": [
        {
          "output_type": "display_data",
          "data": {
            "image/png": "[encoded data removed]",
            "text/plain": [
              "<Figure size 720x864 with 1 Axes>"
            ]
          },
          "metadata": {
            "needs_background": "light"
          }
        }
      ]
    },
    {
      "cell_type": "markdown",
      "source": [
        "Observations:\n",
        "\n",
        "On average, it seems that DC is able to compete with Marvel in terms of box office gross. If DC can increase the number of films released each year, then they could theoritically make as much profit as Marvel does."
      ],
      "metadata": {
        "id": "T3p21RHEjfP3"
      }
    },
    {
      "cell_type": "markdown",
      "source": [
        "\n",
        "\n",
        "---\n",
        "\n"
      ],
      "metadata": {
        "id": "Q3_Gtt_ueScJ"
      }
    },
    {
      "cell_type": "markdown",
      "source": [
        "### Is there a relationship between the ratings and the box office gross?"
      ],
      "metadata": {
        "id": "c_1uta-9ekoM"
      }
    },
    {
      "cell_type": "code",
      "source": [
        "# Linear regression plots that show us if there is a relationship between IMDB rating and the box office gross for each movie\n",
        "ax1 = sns.lmplot(data = mdc,\n",
        "           x = 'imdb_rating', \n",
        "           y = 'imdb_gross', \n",
        "           ci = None, \n",
        "           hue = 'entity', height = 6, \n",
        "           palette = 'Set1');\n",
        "ax1.set_axis_labels(\"IMDB Rating\", \"Box Office Gross\")\n",
        "\n",
        "# Similar plot but for the Rotten Tomatoes score and box office fross instead\n",
        "ax2 = sns.lmplot(data = mdc, \n",
        "           x = 'tomato_meter', \n",
        "           y = 'imdb_gross', \n",
        "           ci = None, \n",
        "           hue = 'entity', height = 6, \n",
        "           palette = 'Set1');\n",
        "ax2.set_axis_labels(\"Tomato Meter\", \"Box Office Gross\")"
      ],
      "metadata": {
        "id": "ZiSnMBS8GOO-",
        "colab": {
          "base_uri": "https://localhost:8080/",
          "height": 881
        },
        "outputId": "524cb757-5799-4d97-df69-bb704f314395"
      },
      "execution_count": 29,
      "outputs": [
        {
          "output_type": "execute_result",
          "data": {
            "text/plain": [
              "<seaborn.axisgrid.FacetGrid at 0x7f45c3d8bf50>"
            ]
          },
          "metadata": {},
          "execution_count": 29
        },
        {
          "output_type": "display_data",
          "data": {
            "image/png": "[encoded data removed]",
            "text/plain": [
              "<Figure size 508.5x432 with 1 Axes>"
            ]
          },
          "metadata": {
            "needs_background": "light"
          }
        },
        {
          "output_type": "display_data",
          "data": {
            "image/png": "[encoded data removed]",
            "text/plain": [
              "<Figure size 508.5x432 with 1 Axes>"
            ]
          },
          "metadata": {
            "needs_background": "light"
          }
        }
      ]
    },
    {
      "cell_type": "markdown",
      "source": [
        "Observations:\n",
        "\n",
        "There seems to be a correlation between the ratings and box office gross, especially when it comes to Marvel films. We can look further into this by using Pearson Correlation Coefficients"
      ],
      "metadata": {
        "id": "oadH--mTWyXW"
      }
    },
    {
      "cell_type": "code",
      "source": [
        "# We first create a new dataframe for each company\n",
        "mvl = mdc[mdc['entity'] == 'MARVEL']\n",
        "dc = mdc[mdc['entity'] == 'DC']\n",
        "\n",
        "# We then create a correlation table for each company based on the columns we want to observe\n",
        "print('Pearson correlation coefficients for Marvel films')\n",
        "print(mvl[['imdb_gross','imdb_rating','tomato_meter']].corr().round(3))\n",
        "print('-----------------------------------------------------')\n",
        "print('Pearson correlation coefficients for DC films')\n",
        "print(dc[['imdb_gross','imdb_rating','tomato_meter']].corr().round(3))"
      ],
      "metadata": {
        "id": "GsSR5wxYXW9z",
        "colab": {
          "base_uri": "https://localhost:8080/"
        },
        "outputId": "65ec744d-a437-48ae-eea9-8974dde56e3f"
      },
      "execution_count": 45,
      "outputs": [
        {
          "output_type": "stream",
          "name": "stdout",
          "text": [
            "Pearson correlation coefficients for Marvel films\n",
            "              imdb_gross  imdb_rating  tomato_meter\n",
            "imdb_gross         1.000        0.693         0.700\n",
            "imdb_rating        0.693        1.000         0.891\n",
            "tomato_meter       0.700        0.891         1.000\n",
            "-----------------------------------------------------\n",
            "Pearson correlation coefficients for DC films\n",
            "              imdb_gross  imdb_rating  tomato_meter\n",
            "imdb_gross         1.000        0.704         0.477\n",
            "imdb_rating        0.704        1.000         0.800\n",
            "tomato_meter       0.477        0.800         1.000\n"
          ]
        }
      ]
    },
    {
      "cell_type": "markdown",
      "source": [
        "Observations:\n",
        "\n",
        "From these tables, we can see that Marvel has a stronger relationship between the Rotten Tomatoes scores and box office gross, while DC has a stronger relationship with between the IMDB ratings and box office gross."
      ],
      "metadata": {
        "id": "WXOCsLPWbp_s"
      }
    },
    {
      "cell_type": "markdown",
      "source": [
        "\n",
        "\n",
        "---\n",
        "\n"
      ],
      "metadata": {
        "id": "EzAYTX7It-hp"
      }
    },
    {
      "cell_type": "markdown",
      "source": [
        "### Conclusions\n",
        "\n",
        "Based on this analysis, we can conclude the following:\n",
        "\n",
        "1. Marvel has been producing more films than DC for the last few years, and is producing films at an increasing rate\n",
        "2. On average, Marvel films perform better both critically and financially\n",
        "3. IMDB ratings seems to be a better indicator for gross performance for DC films, but Rotten Tomatoes is a better indicator for Marvel films.\n",
        "\n",
        "Further analysis could find insights that support these conclusions further, or even contradict it. There are still many more methods of analysis that could be done, such as sentiment analysis for the critic consensus, and predictive modelling for gross revenue when given the rating. Thank you for reading!"
      ],
      "metadata": {
        "id": "X04iTCRlsjmb"
      }
    }
  ]
}